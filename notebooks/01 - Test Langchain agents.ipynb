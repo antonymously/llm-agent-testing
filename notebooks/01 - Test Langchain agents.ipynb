{
 "cells": [
  {
   "cell_type": "code",
   "execution_count": 6,
   "metadata": {},
   "outputs": [],
   "source": [
    "import os\n",
    "from dotenv import load_dotenv\n",
    "\n",
    "from langchain.agents import AgentExecutor, create_openai_tools_agent\n",
    "from langchain_openai import ChatOpenAI\n",
    "\n",
    "os.chdir(\"../\")\n",
    "load_dotenv()\n",
    "\n",
    "OPENAI_SECRET_KEY = os.getenv(\"OPENAI_SECRET_KEY\")"
   ]
  },
  {
   "cell_type": "markdown",
   "metadata": {},
   "source": [
    "Make a custom tool which writes an entry to a diary.\n",
    "<br>Reference: https://python.langchain.com/v0.1/docs/modules/tools/custom_tools/"
   ]
  },
  {
   "cell_type": "code",
   "execution_count": 2,
   "metadata": {},
   "outputs": [],
   "source": [
    "import datetime\n",
    "from langchain.pydantic_v1 import BaseModel, Field\n",
    "from langchain.tools import BaseTool, StructuredTool, tool"
   ]
  },
  {
   "cell_type": "code",
   "execution_count": 3,
   "metadata": {},
   "outputs": [],
   "source": [
    "class DiaryEntry:\n",
    "\n",
    "    def __init__(self, date: datetime.date, text: str):\n",
    "        self.date = date\n",
    "        self.text = text\n",
    "\n",
    "    def __str__(self):\n",
    "        return self.text\n",
    "\n",
    "class Diary:\n",
    "\n",
    "    def __init__(self):\n",
    "\n",
    "        self.entries = {} # {datetime: [entry, ..]}\n",
    "\n",
    "    def write_entry(self, entry):\n",
    "\n",
    "        self.entries[entry.date] = self.entries.get(entry.date, []) + [entry]\n",
    "\n",
    "    def get_entries(self, date):\n",
    "\n",
    "        return self.entries.get(date, [])"
   ]
  },
  {
   "cell_type": "code",
   "execution_count": 4,
   "metadata": {},
   "outputs": [
    {
     "name": "stdout",
     "output_type": "stream",
     "text": [
      "I ate a lot\n"
     ]
    }
   ],
   "source": [
    "test_diary = Diary()\n",
    "test_diary.write_entry(\n",
    "    DiaryEntry(date = datetime.date(2024,6,6), text = \"I ate a lot\")\n",
    ")\n",
    "print(test_diary.get_entries(datetime.date(2024,6,6))[0])"
   ]
  },
  {
   "cell_type": "code",
   "execution_count": 7,
   "metadata": {},
   "outputs": [],
   "source": [
    "class WriteToDiaryInput(BaseModel):\n",
    "    date: datetime.date = Field(description = \"The date in the diary wherein the text will be written. Defaults to today if not provided.\")\n",
    "    text: str = Field(description = \"The text to be written into the diary\")\n",
    "    \n",
    "DIARY = Diary()\n",
    "\n",
    "@tool(\"write-to-diary-tool\", args_schema = WriteToDiaryInput, return_direct = True)\n",
    "def write_to_diary(text: str, date: datetime.date = datetime.date.today()):\n",
    "    \"\"\"\n",
    "    Writes the text into the diary in the page of the corresponding date.\n",
    "    Writes to the page for today if date is not provided.\n",
    "    \"\"\"\n",
    "    DIARY.write_entry(\n",
    "        DiaryEntry(\n",
    "            date = date,\n",
    "            text = text\n",
    "        )\n",
    "    )\n",
    "    return True"
   ]
  },
  {
   "cell_type": "markdown",
   "metadata": {},
   "source": [
    "Make a conversational agent that can use the tool to write to the diary when commanded"
   ]
  },
  {
   "cell_type": "code",
   "execution_count": null,
   "metadata": {},
   "outputs": [],
   "source": []
  },
  {
   "cell_type": "code",
   "execution_count": null,
   "metadata": {},
   "outputs": [],
   "source": []
  }
 ],
 "metadata": {
  "kernelspec": {
   "display_name": "Python 3 (ipykernel)",
   "language": "python",
   "name": "python3"
  },
  "language_info": {
   "codemirror_mode": {
    "name": "ipython",
    "version": 3
   },
   "file_extension": ".py",
   "mimetype": "text/x-python",
   "name": "python",
   "nbconvert_exporter": "python",
   "pygments_lexer": "ipython3",
   "version": "3.12.3"
  }
 },
 "nbformat": 4,
 "nbformat_minor": 2
}
