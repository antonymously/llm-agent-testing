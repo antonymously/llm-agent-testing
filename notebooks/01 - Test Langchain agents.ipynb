{
 "cells": [
  {
   "cell_type": "code",
   "execution_count": 1,
   "metadata": {},
   "outputs": [],
   "source": [
    "import os\n",
    "from dotenv import load_dotenv\n",
    "\n",
    "from langchain.agents import AgentExecutor, create_openai_tools_agent\n",
    "\n",
    "load_dotenv()\n",
    "\n",
    "OPENAI_SECRET_KEY = os.getenv(\"OPENAI_SECRET_KEY\")"
   ]
  },
  {
   "cell_type": "markdown",
   "metadata": {},
   "source": [
    "Make a custom tool which writes an entry to a diary.\n",
    "<br>Reference: https://python.langchain.com/v0.1/docs/modules/tools/custom_tools/"
   ]
  },
  {
   "cell_type": "code",
   "execution_count": 2,
   "metadata": {},
   "outputs": [],
   "source": [
    "import datetime\n",
    "from langchain.pydantic_v1 import BaseModel, Field\n",
    "from langchain.tools import BaseTool, StructuredTool, tool\n",
    "from typing import Optional"
   ]
  },
  {
   "cell_type": "code",
   "execution_count": 3,
   "metadata": {},
   "outputs": [],
   "source": [
    "class DiaryEntry:\n",
    "\n",
    "    def __init__(self, date: datetime.date, text: str):\n",
    "        self.date = date\n",
    "        self.text = text\n",
    "\n",
    "    def __str__(self):\n",
    "        return self.text\n",
    "\n",
    "class Diary:\n",
    "\n",
    "    def __init__(self):\n",
    "\n",
    "        self.entries = {} # {datetime: [entry, ..]}\n",
    "\n",
    "    def write_entry(self, entry):\n",
    "\n",
    "        self.entries[entry.date] = self.entries.get(entry.date, []) + [entry]\n",
    "\n",
    "    def get_entries(self, date):\n",
    "\n",
    "        return self.entries.get(date, [])"
   ]
  },
  {
   "cell_type": "code",
   "execution_count": 4,
   "metadata": {},
   "outputs": [
    {
     "name": "stdout",
     "output_type": "stream",
     "text": [
      "I ate a lot\n"
     ]
    }
   ],
   "source": [
    "test_diary = Diary()\n",
    "test_diary.write_entry(\n",
    "    DiaryEntry(date = datetime.date(2024,6,6), text = \"I ate a lot\")\n",
    ")\n",
    "print(test_diary.get_entries(datetime.date(2024,6,6))[0])"
   ]
  },
  {
   "cell_type": "code",
   "execution_count": 5,
   "metadata": {},
   "outputs": [],
   "source": [
    "class WriteToDiaryInput(BaseModel):\n",
    "    date: Optional[datetime.date] = Field(description = \"The date in the diary wherein the text will be written. Defaults to today if not provided.\")\n",
    "    text: str = Field(description = \"The text to be written into the diary\")\n",
    "    \n",
    "DIARY = Diary()\n",
    "\n",
    "@tool(\"write-to-diary-tool\", args_schema = WriteToDiaryInput)\n",
    "def write_to_diary(text: str, date: datetime.date = datetime.date.today()):\n",
    "    \"\"\"\n",
    "    Writes the text into the diary in the page of the corresponding date.\n",
    "    Writes to the page for today if date is not provided.\n",
    "    \"\"\"\n",
    "    DIARY.write_entry(\n",
    "        DiaryEntry(\n",
    "            date = date,\n",
    "            text = text\n",
    "        )\n",
    "    )\n",
    "    return True"
   ]
  },
  {
   "cell_type": "code",
   "execution_count": 6,
   "metadata": {},
   "outputs": [
    {
     "name": "stdout",
     "output_type": "stream",
     "text": [
      "write-to-diary-tool\n",
      "Writes the text into the diary in the page of the corresponding date.\n",
      "Writes to the page for today if date is not provided.\n",
      "{'date': {'title': 'Date', 'description': 'The date in the diary wherein the text will be written. Defaults to today if not provided.', 'type': 'string', 'format': 'date'}, 'text': {'title': 'Text', 'description': 'The text to be written into the diary', 'type': 'string'}}\n"
     ]
    }
   ],
   "source": [
    "print(write_to_diary.name)\n",
    "print(write_to_diary.description)\n",
    "print(write_to_diary.args)"
   ]
  },
  {
   "cell_type": "markdown",
   "metadata": {},
   "source": [
    "Make a conversational agent that can use the tool to write to the diary when commanded"
   ]
  },
  {
   "cell_type": "code",
   "execution_count": 7,
   "metadata": {},
   "outputs": [],
   "source": [
    "from langchain.agents import AgentExecutor, create_tool_calling_agent\n",
    "from langchain_core.prompts import ChatPromptTemplate\n",
    "from langchain_openai import ChatOpenAI\n",
    "from langchain_core.messages import AIMessage, HumanMessage"
   ]
  },
  {
   "cell_type": "code",
   "execution_count": 8,
   "metadata": {},
   "outputs": [],
   "source": [
    "llm = ChatOpenAI(\n",
    "    model = \"gpt-4o\",\n",
    "    temperature = 0,\n",
    "    max_tokens = None,\n",
    "    timeout = 300,\n",
    "    max_retries = 2,\n",
    "    openai_api_key = OPENAI_SECRET_KEY,\n",
    ")"
   ]
  },
  {
   "cell_type": "code",
   "execution_count": 9,
   "metadata": {},
   "outputs": [],
   "source": [
    "tools = [write_to_diary]"
   ]
  },
  {
   "cell_type": "code",
   "execution_count": 10,
   "metadata": {},
   "outputs": [],
   "source": [
    "system_prompt = '''\n",
    "You are a helpful assistant.\n",
    "When asked to write something to the human's diary, use the write-to-diary-tool.\n",
    "Before writing anything to the diary, confirm with the human whether he wants it written.\n",
    "'''.strip()"
   ]
  },
  {
   "cell_type": "code",
   "execution_count": 11,
   "metadata": {},
   "outputs": [],
   "source": [
    "prompt = ChatPromptTemplate.from_messages(\n",
    "    [\n",
    "        (\n",
    "            \"system\",\n",
    "            system_prompt,\n",
    "        ),\n",
    "        (\"placeholder\", \"{chat_history}\"),\n",
    "        (\"human\", \"{input}\"),\n",
    "        (\"placeholder\", \"{agent_scratchpad}\"),\n",
    "    ]\n",
    ")\n",
    "agent = create_tool_calling_agent(llm, tools, prompt)"
   ]
  },
  {
   "cell_type": "code",
   "execution_count": 12,
   "metadata": {},
   "outputs": [],
   "source": [
    "agent_executor = AgentExecutor(agent=agent, tools=tools, verbose=True)"
   ]
  },
  {
   "cell_type": "code",
   "execution_count": 13,
   "metadata": {},
   "outputs": [
    {
     "name": "stdout",
     "output_type": "stream",
     "text": [
      "\n",
      "\n",
      "\u001b[1m> Entering new AgentExecutor chain...\u001b[0m\n",
      "\u001b[32;1m\u001b[1;3mI'm sorry to hear that. Would you like to write about it in your diary?\u001b[0m\n",
      "\n",
      "\u001b[1m> Finished chain.\u001b[0m\n",
      "<class 'dict'>\n",
      "{'input': 'i had a tough day today.', 'output': \"I'm sorry to hear that. Would you like to write about it in your diary?\"}\n"
     ]
    }
   ],
   "source": [
    "output = agent_executor.invoke({\"input\": \"i had a tough day today.\"})\n",
    "print(type(output))\n",
    "print(output)"
   ]
  },
  {
   "cell_type": "code",
   "execution_count": 14,
   "metadata": {},
   "outputs": [
    {
     "name": "stdout",
     "output_type": "stream",
     "text": [
      "\n",
      "\n",
      "\u001b[1m> Entering new AgentExecutor chain...\u001b[0m\n",
      "\u001b[32;1m\u001b[1;3m\n",
      "Invoking: `write-to-diary-tool` with `{'text': 'I had a tough day today. I was stuck in traffic for 2 hours.'}`\n",
      "\n",
      "\n",
      "\u001b[0m\u001b[36;1m\u001b[1;3mTrue\u001b[0m\u001b[32;1m\u001b[1;3mI've written about your tough day and the traffic situation in your diary. If there's anything else you'd like to add or talk about, feel free to let me know.\u001b[0m\n",
      "\n",
      "\u001b[1m> Finished chain.\u001b[0m\n",
      "<class 'dict'>\n",
      "{'chat_history': [HumanMessage(content='i had a tough day today.'), AIMessage(content=\"I'm sorry to hear that you had a tough day. Would you like me to write about it in your diary? If so, please provide some details you'd like to include.\")], 'input': 'I was stuck in traffic for 2 hours. yes, please write this in my diary.', 'output': \"I've written about your tough day and the traffic situation in your diary. If there's anything else you'd like to add or talk about, feel free to let me know.\"}\n"
     ]
    }
   ],
   "source": [
    "output = agent_executor.invoke({\n",
    "    \"chat_history\": [\n",
    "        HumanMessage(content=\"i had a tough day today.\"),\n",
    "        AIMessage(content=\"I'm sorry to hear that you had a tough day. Would you like me to write about it in your diary? If so, please provide some details you'd like to include.\"),\n",
    "    ],\n",
    "    \"input\": \"I was stuck in traffic for 2 hours. yes, please write this in my diary.\",\n",
    "})\n",
    "print(type(output))\n",
    "print(output)"
   ]
  },
  {
   "cell_type": "code",
   "execution_count": 16,
   "metadata": {},
   "outputs": [
    {
     "name": "stdout",
     "output_type": "stream",
     "text": [
      "I had a tough day today. I was stuck in traffic for 2 hours.\n"
     ]
    }
   ],
   "source": [
    "print(DIARY.get_entries(datetime.date.today())[0])"
   ]
  }
 ],
 "metadata": {
  "kernelspec": {
   "display_name": "Python 3 (ipykernel)",
   "language": "python",
   "name": "python3"
  },
  "language_info": {
   "codemirror_mode": {
    "name": "ipython",
    "version": 3
   },
   "file_extension": ".py",
   "mimetype": "text/x-python",
   "name": "python",
   "nbconvert_exporter": "python",
   "pygments_lexer": "ipython3",
   "version": "3.12.3"
  }
 },
 "nbformat": 4,
 "nbformat_minor": 2
}
