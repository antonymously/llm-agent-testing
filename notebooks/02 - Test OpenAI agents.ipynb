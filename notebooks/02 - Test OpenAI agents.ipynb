{
 "cells": [
  {
   "cell_type": "markdown",
   "metadata": {},
   "source": [
    "Test making an agent straight from OpenAI API"
   ]
  },
  {
   "cell_type": "code",
   "execution_count": 1,
   "metadata": {},
   "outputs": [],
   "source": [
    "import os\n",
    "from dotenv import load_dotenv\n",
    "\n",
    "from langchain.agents import AgentExecutor, create_openai_tools_agent\n",
    "\n",
    "load_dotenv()\n",
    "\n",
    "OPENAI_SECRET_KEY = os.getenv(\"OPENAI_SECRET_KEY\")"
   ]
  },
  {
   "cell_type": "markdown",
   "metadata": {},
   "source": [
    "Make a custom tool which writes an entry to a diary.\n",
    "Reference: https://platform.openai.com/docs/assistants/tools/function-calling/quickstart"
   ]
  },
  {
   "cell_type": "code",
   "execution_count": 2,
   "metadata": {},
   "outputs": [],
   "source": [
    "import datetime\n",
    "from typing import Optional"
   ]
  },
  {
   "cell_type": "code",
   "execution_count": 3,
   "metadata": {},
   "outputs": [],
   "source": [
    "class DiaryEntry:\n",
    "\n",
    "    def __init__(self, date: datetime.date, text: str):\n",
    "        self.date = date\n",
    "        self.text = text\n",
    "\n",
    "    def __str__(self):\n",
    "        return self.text\n",
    "\n",
    "class Diary:\n",
    "\n",
    "    def __init__(self):\n",
    "\n",
    "        self.entries = {} # {datetime: [entry, ..]}\n",
    "\n",
    "    def write_entry(self, entry):\n",
    "\n",
    "        self.entries[entry.date] = self.entries.get(entry.date, []) + [entry]\n",
    "\n",
    "    def get_entries(self, date):\n",
    "\n",
    "        return self.entries.get(date, [])"
   ]
  },
  {
   "cell_type": "code",
   "execution_count": 14,
   "metadata": {},
   "outputs": [],
   "source": [
    "DIARY = Diary()\n",
    "def write_to_diary(text: str, date: datetime.date = datetime.date.today()):\n",
    "    \"\"\"\n",
    "    Writes the text into the diary in the page of the corresponding date.\n",
    "    Writes to the page for today if date is not provided.\n",
    "    \"\"\"\n",
    "    DIARY.write_entry(\n",
    "        DiaryEntry(\n",
    "            date = date,\n",
    "            text = text\n",
    "        )\n",
    "    )\n",
    "    return True\n",
    "\n",
    "def get_diary_entries(date: datetime.date = datetime.date.today()):\n",
    "    \"\"\"\n",
    "    Returns the entries in the diary on the specified date.\n",
    "    Returns the entries today of date is not provided.\n",
    "    \"\"\"\n",
    "    print(date)\n",
    "    print(type(date))\n",
    "\n",
    "    entries = DIARY.get_entries(date)\n",
    "    entries_str = \"\\n\".join([e.text for e in entries])\n",
    "\n",
    "    return entries_str"
   ]
  },
  {
   "cell_type": "code",
   "execution_count": 40,
   "metadata": {},
   "outputs": [],
   "source": [
    "from textwrap import dedent\n",
    "import json\n",
    "from openai import OpenAI\n",
    "\n",
    "client = OpenAI(api_key = OPENAI_SECRET_KEY)"
   ]
  },
  {
   "cell_type": "code",
   "execution_count": 12,
   "metadata": {},
   "outputs": [],
   "source": [
    "# NOTE: 'datetime.date' does not work as type\n",
    "    # just parse from string\n",
    "\n",
    "ASSISTANT_TOOLS_DEFINITIONS = [\n",
    "    {\n",
    "        \"type\": \"function\",\n",
    "        \"function\": {\n",
    "            \"name\": \"write_to_diary\",\n",
    "            \"description\": dedent('''\n",
    "                Writes the text into the diary in the page of the corresponding date.\n",
    "                Writes to the page for today if date is not provided.\n",
    "                '''),\n",
    "            \"parameters\": {\n",
    "                \"type\": \"object\",\n",
    "                \"properties\": {\n",
    "                    \"text\": {\n",
    "                        \"type\": \"string\",\n",
    "                        \"description\": \"The text to be written into the diary.\",\n",
    "                    },\n",
    "                    \"date\": {\n",
    "                        \"type\": \"string\",\n",
    "                        \"description\": \"The date (YYYY-MM-DD) in the diary wherein the text will be written. Defaults to today if not provided.\",\n",
    "                    },\n",
    "                },\n",
    "                \"required\": [\"text\"],\n",
    "            },\n",
    "        }\n",
    "    },\n",
    "    {\n",
    "        \"type\": \"function\",\n",
    "        \"function\": {\n",
    "            \"name\": \"get_diary_entries\",\n",
    "            \"description\": dedent('''\n",
    "                Returns the entries in the diary on the specified date.\n",
    "                Returns the entries today of date is not provided.\n",
    "                '''),\n",
    "            \"parameters\": {\n",
    "                \"type\": \"object\",\n",
    "                \"properties\": {\n",
    "                    \"date\": {\n",
    "                        \"type\": \"string\",\n",
    "                        \"description\": \"The date (YYYY-MM-DD) in the diary from where to get entries. Defaults to today if not provided.\",\n",
    "                    },\n",
    "                },\n",
    "                \"required\": [],\n",
    "            },\n",
    "        }\n",
    "    },\n",
    "]"
   ]
  },
  {
   "cell_type": "code",
   "execution_count": 18,
   "metadata": {},
   "outputs": [],
   "source": [
    "SYSTEM_PROMPT = '''\n",
    "You are a helpful assistant.\n",
    "When asked to write something to the human's diary, use the write-to-diary-tool.\n",
    "Unless he explicitly says to write it in his diary, confirm it first.\n",
    "When asked to retrieve something from the human's diary, use the get-diary-entries-tool.\n",
    "'''.strip()"
   ]
  },
  {
   "cell_type": "code",
   "execution_count": 19,
   "metadata": {},
   "outputs": [],
   "source": [
    "assistant = client.beta.assistants.create(\n",
    "    instructions = SYSTEM_PROMPT,\n",
    "    model = \"gpt-4o\",\n",
    "    tools = ASSISTANT_TOOLS_DEFINITIONS,\n",
    ")"
   ]
  },
  {
   "cell_type": "code",
   "execution_count": 50,
   "metadata": {},
   "outputs": [],
   "source": [
    "# I guess this is the equivalent of agent executor\n",
    "\n",
    "def run_thread(thread, assistant):\n",
    "    run = client.beta.threads.runs.create_and_poll(\n",
    "        thread_id=thread.id,\n",
    "        assistant_id=assistant.id,\n",
    "    )\n",
    "\n",
    "    if run.status == 'completed':\n",
    "        messages = client.beta.threads.messages.list(\n",
    "            thread_id=thread.id\n",
    "        )\n",
    "        return messages\n",
    "    else:\n",
    "        print(run.status)\n",
    "        pass\n",
    "\n",
    "    # Define the list to store tool outputs\n",
    "    tool_outputs = []\n",
    "\n",
    "    # Loop through each tool in the required action section\n",
    "    if run.required_action:\n",
    "        for tool in run.required_action.submit_tool_outputs.tool_calls:\n",
    "\n",
    "            tool_args = json.loads(tool.function.arguments)\n",
    "\n",
    "            if tool.function.name == \"write_to_diary\":\n",
    "                text = tool_args[\"text\"]\n",
    "                date_str = tool_args.get(\"date\", None)\n",
    "\n",
    "                if date_str is None:\n",
    "                    date = datetime.date.today()\n",
    "                else:\n",
    "                    date = datetime.datetime.strptime(date_str, \"%Y-%m-%d\").date()\n",
    "\n",
    "                output = write_to_diary(text, date)\n",
    "\n",
    "                tool_outputs.append({\n",
    "                    \"tool_call_id\": tool.id,\n",
    "                    \"output\": str(output),\n",
    "                })\n",
    "                \n",
    "            elif tool.function.name == \"get_diary_entries\":\n",
    "                date_str = tool_args.get(\"date\", None)\n",
    "\n",
    "                if date_str is None:\n",
    "                    date = datetime.date.today()\n",
    "                else:\n",
    "                    date = datetime.datetime.strptime(date_str, \"%Y-%m-%d\").date()\n",
    "\n",
    "                output = get_diary_entries(date)\n",
    "\n",
    "                tool_outputs.append({\n",
    "                    \"tool_call_id\": tool.id,\n",
    "                    \"output\": output,\n",
    "                })\n",
    "\n",
    "    # Submit all tool outputs at once after collecting them in a list\n",
    "    if tool_outputs:\n",
    "        try:\n",
    "            run = client.beta.threads.runs.submit_tool_outputs_and_poll(\n",
    "                thread_id=thread.id,\n",
    "                run_id=run.id,\n",
    "                tool_outputs=tool_outputs\n",
    "            )\n",
    "            print(\"Tool outputs submitted successfully.\")\n",
    "        except Exception as e:\n",
    "            print(\"Failed to submit tool outputs:\", e)\n",
    "    else:\n",
    "        print(\"No tool outputs to submit.\")\n",
    "\n",
    "    if run.status == 'completed':\n",
    "        messages = client.beta.threads.messages.list(\n",
    "            thread_id=thread.id\n",
    "        )\n",
    "        return messages\n",
    "    else:\n",
    "        print(run.status)\n",
    "        pass"
   ]
  },
  {
   "cell_type": "code",
   "execution_count": 51,
   "metadata": {},
   "outputs": [
    {
     "name": "stdout",
     "output_type": "stream",
     "text": [
      "Just to confirm, would you like me to write in your diary that you had a tough day today?\n"
     ]
    }
   ],
   "source": [
    "DIARY = Diary()\n",
    "\n",
    "thread = client.beta.threads.create()\n",
    "message = client.beta.threads.messages.create(\n",
    "    thread_id=thread.id,\n",
    "    role=\"user\",\n",
    "    content=\"write in my diary that i had a tough day today.\",\n",
    ")\n",
    "messages = run_thread(thread, assistant)\n",
    "print(messages.data[0].content[0].text.value)"
   ]
  },
  {
   "cell_type": "code",
   "execution_count": 52,
   "metadata": {},
   "outputs": [
    {
     "name": "stdout",
     "output_type": "stream",
     "text": [
      "requires_action\n",
      "Tool outputs submitted successfully.\n",
      "I've written in your diary that you had a tough day on June 14, 2024.\n"
     ]
    }
   ],
   "source": [
    "message = client.beta.threads.messages.create(\n",
    "    thread_id=thread.id,\n",
    "    role=\"user\",\n",
    "    content=\"yes. write it to June 14, 2024\",\n",
    ")\n",
    "messages = run_thread(thread, assistant)\n",
    "print(messages.data[0].content[0].text.value)"
   ]
  },
  {
   "cell_type": "code",
   "execution_count": 54,
   "metadata": {},
   "outputs": [
    {
     "name": "stdout",
     "output_type": "stream",
     "text": [
      "requires_action\n",
      "Tool outputs submitted successfully.\n",
      "I've added to your diary that traffic was bad on June 14, 2024.\n"
     ]
    }
   ],
   "source": [
    "message = client.beta.threads.messages.create(\n",
    "    thread_id=thread.id,\n",
    "    role=\"user\",\n",
    "    content=\"also write that traffic was bad on the same date\",\n",
    ")\n",
    "messages = run_thread(thread, assistant)\n",
    "print(messages.data[0].content[0].text.value)"
   ]
  },
  {
   "cell_type": "code",
   "execution_count": 55,
   "metadata": {},
   "outputs": [
    {
     "name": "stdout",
     "output_type": "stream",
     "text": [
      "2024-06-14\n",
      "<class 'datetime.date'>\n"
     ]
    },
    {
     "data": {
      "text/plain": [
       "'I had a tough day today.\\nTraffic was bad.'"
      ]
     },
     "execution_count": 55,
     "metadata": {},
     "output_type": "execute_result"
    }
   ],
   "source": [
    "get_diary_entries(datetime.date(2024,6,14))"
   ]
  },
  {
   "cell_type": "code",
   "execution_count": 56,
   "metadata": {},
   "outputs": [
    {
     "name": "stdout",
     "output_type": "stream",
     "text": [
      "requires_action\n",
      "2024-06-14\n",
      "<class 'datetime.date'>\n",
      "Tool outputs submitted successfully.\n",
      "Your diary entry for June 14, 2024, reads:\n",
      "\n",
      "\"I had a tough day today.\n",
      "Traffic was bad.\"\n"
     ]
    }
   ],
   "source": [
    "thread = client.beta.threads.create()\n",
    "message = client.beta.threads.messages.create(\n",
    "    thread_id=thread.id,\n",
    "    role=\"user\",\n",
    "    content=\"what's written in my diary on june 14, 2024?\",\n",
    ")\n",
    "messages = run_thread(thread, assistant)\n",
    "print(messages.data[0].content[0].text.value)"
   ]
  },
  {
   "cell_type": "code",
   "execution_count": null,
   "metadata": {},
   "outputs": [],
   "source": []
  },
  {
   "cell_type": "code",
   "execution_count": null,
   "metadata": {},
   "outputs": [],
   "source": []
  }
 ],
 "metadata": {
  "kernelspec": {
   "display_name": "Python 3 (ipykernel)",
   "language": "python",
   "name": "python3"
  },
  "language_info": {
   "codemirror_mode": {
    "name": "ipython",
    "version": 3
   },
   "file_extension": ".py",
   "mimetype": "text/x-python",
   "name": "python",
   "nbconvert_exporter": "python",
   "pygments_lexer": "ipython3",
   "version": "3.12.3"
  }
 },
 "nbformat": 4,
 "nbformat_minor": 2
}
